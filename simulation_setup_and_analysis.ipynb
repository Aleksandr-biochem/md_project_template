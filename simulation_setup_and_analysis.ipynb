{
 "cells": [
  {
   "cell_type": "markdown",
   "id": "752d2afb-7b05-4970-a780-365f37887654",
   "metadata": {},
   "source": [
    "### Molecular dynamics project notebook template\n",
    "\n",
    "This is a template to quick-start your new MD project. \n",
    "\n",
    "You can use it to document how your systems were setup, simulated, processed, followed by analysis and plots."
   ]
  },
  {
   "cell_type": "code",
   "execution_count": null,
   "id": "44468775-d341-44c5-bc38-18700acaef2a",
   "metadata": {},
   "outputs": [],
   "source": [
    "# collect all import in the beginning, don't scatter them through the notebook\n",
    "\n",
    "# general libraries\n",
    "import os\n",
    "import numpy as np\n",
    "import pandas as pd\n",
    "import seaborn as sns\n",
    "from tqdm import tqdm\n",
    "import matplotlib.pyplot as plt\n",
    "\n",
    "# Molecular Dynamics analysis libraries\n",
    "import MDAnalysis as mda\n",
    "from MDAnalysis import transformations\n",
    "\n",
    "import lipyphilic as lpp\n",
    "\n",
    "# custom python libraries\n",
    "from yamdtools.property_tracker import PropertyAnalyser, RMSDCalculator, LipidPropertyCalculator\n",
    "from yamdtools.analysis import ZDensity"
   ]
  },
  {
   "cell_type": "code",
   "execution_count": null,
   "id": "c591d34b-798d-4283-895e-499d99e6166e",
   "metadata": {},
   "outputs": [],
   "source": [
    "# this magic lines are handy if you are loading your custom Pyhton libraries and aditing them as you go\n",
    "# if reload is not working you might want to restart kernel\n",
    "%load_ext autoreload\n",
    "%autoreload 2 "
   ]
  },
  {
   "cell_type": "markdown",
   "id": "912c7505-3a8d-4e40-9e92-c67e7eff6b96",
   "metadata": {},
   "source": [
    "### Auxiliary functions\n",
    "\n",
    "If have long plotting or analysis functions that you reuse throughout the notebook, you might want to collect them here:"
   ]
  },
  {
   "cell_type": "code",
   "execution_count": null,
   "id": "11d6d910-f551-4788-abf7-7db68410f5c8",
   "metadata": {},
   "outputs": [],
   "source": [
    "def plot_results(data):\n",
    "    \"\"\"\n",
    "    Write descriptions, this will help you \n",
    "    or anyone else who is using your work\n",
    "    \"\"\"\n",
    "\n",
    "    pass"
   ]
  },
  {
   "cell_type": "markdown",
   "id": "0dfb1f67-eddc-4c58-84e0-9b4a0d1712db",
   "metadata": {},
   "source": [
    "### Contents"
   ]
  },
  {
   "cell_type": "markdown",
   "id": "a4372e90-af15-46ae-bb41-afd05bf10bbf",
   "metadata": {},
   "source": [
    "0. [**System assembly**](#section_sim_assembly)\n",
    "\n",
    "1. [**Stage 1 of analysis**](#section_1)\n",
    "\n",
    "    1.1 [Analysis of some property](#section_1_1)\n",
    "\n",
    "    1.2 [Analysis of another property](#section_1_2)\n",
    "\n",
    "    1.3 [Results](#section_1_3)\n",
    "\n",
    "3. [**Stage 2 of analysis**](#section_2)\n",
    "\n",
    "    2.1 [Analysis of some property](#section_1_1)\n",
    "\n",
    "    2.2 [Analysis of another property](#section_1_2)\n",
    "\n",
    "    2.3 [Results](#section_2_3)"
   ]
  },
  {
   "cell_type": "markdown",
   "id": "267acdd8-9116-4887-bbf6-1390083b5cf0",
   "metadata": {
    "jp-MarkdownHeadingCollapsed": true
   },
   "source": [
    "## System assembly<a id=\"section_sim_assembly\"></a>\n",
    "\n",
    "Here you can describe how your systems were setup and simulated.\n",
    "\n",
    "It can also be helpful to iterate through all of the systems to count components in each system and create a table of simulations for your supplementary materials. See example code below:"
   ]
  },
  {
   "cell_type": "code",
   "execution_count": null,
   "id": "fc5ca7f3-389e-40c7-a8f6-e15695a9ad25",
   "metadata": {
    "scrolled": true
   },
   "outputs": [],
   "source": [
    "# to store data about assembled systems\n",
    "simulated_systems = []\n",
    "\n",
    "# let's assume that 'systems' is a lst of paths to simulation directories\n",
    "system_paths = [...]\n",
    "\n",
    "for system_path in system_paths:\n",
    "\n",
    "    # logging progress\n",
    "    print(f'Analysing {system_path}\\n')\n",
    "\n",
    "    # load your system\n",
    "    system = mda.Universe(f'{system_path}/mdrun.gro')\n",
    "\n",
    "    # now let's count components, for example\n",
    "    # 1. number of lipids in leaflets\n",
    "    \n",
    "    #deduce membrane center\n",
    "    lipids = system.select_atoms('resname POPC')\n",
    "    midplane = (lipids.positions[:, -1].min() + lipids.positions[:, -1].max()) / 2\n",
    "    \n",
    "    # count lipids in leaflets\n",
    "    l = len(system.select_atoms(f'resname POPC and name PO4 and prop z < {round(midplane, 1)}').residues)\n",
    "    u = len(system.select_atoms(f'resname POPC and name PO4 and prop z > {round(midplane, 1)}').residues)\n",
    "    n_lipids = len(system.select_atoms('resname POPC').residues)\n",
    "    \n",
    "    # 2. number of water and ions\n",
    "    water = 'W'\n",
    "    n_w = len(system.select_atoms(f'resname {water}').residues)\n",
    "\n",
    "    na, cl = 'NA', 'CL'\n",
    "    n_Na = len(system.select_atoms(f'name {na}').residues)\n",
    "    n_Cl = len(system.select_atoms(f'name {cl}').residues)\n",
    "\n",
    "    # 3. system dimensions\n",
    "    x, y , z = system.dimensions[:3] / 10\n",
    "\n",
    "    # 4. total number of particles\n",
    "    n_atoms = len(system.atoms)\n",
    "\n",
    "    # add info to list\n",
    "    # SUGGESTION. you might want to unpack system_path into more \n",
    "    # informative tags e.g. protein name, replicate number etc.\n",
    "    simulated_systems.append([\n",
    "        system_path,\n",
    "        n_lipids, l, u,\n",
    "        n_w, n_Na, n_Cl,\n",
    "        n_atoms,\n",
    "        round(x, 1), round(y, 1), round(z, 1) \n",
    "    ])\n",
    "\n",
    "print('\\n\\n')\n",
    "\n",
    "# create dataframe \n",
    "simulated_systems = pd.DataFrame(\n",
    "    data = simulated_systems,\n",
    "    columns = [\n",
    "        'system_name',\n",
    "        'n_lipids', 'n_lower_leaflet', 'n_upper_leaflet',\n",
    "        'Na', 'Cl', 'n_particles',\n",
    "        'x', 'y', 'z'\n",
    "    ]\n",
    ")"
   ]
  },
  {
   "cell_type": "code",
   "execution_count": null,
   "id": "572a2968-5294-4382-ba25-52b97e91600f",
   "metadata": {},
   "outputs": [],
   "source": [
    "pd.set_option('display.max_rows', None)\n",
    "simulated_systems"
   ]
  },
  {
   "cell_type": "code",
   "execution_count": null,
   "id": "2fe9319d-307f-4676-97bc-1c367c3b25b6",
   "metadata": {},
   "outputs": [],
   "source": [
    "# save\n",
    "simulated_systems.to_csv('analysis/table_fo_simulations.csv')"
   ]
  },
  {
   "cell_type": "code",
   "execution_count": null,
   "id": "cbfdd0da-5815-4709-a905-cb150926b3a7",
   "metadata": {},
   "outputs": [],
   "source": [
    "# reload and combine dataframes\n",
    "dfs = []\n",
    "for name, sim in zip(\n",
    "    ['DMPC64', 'DMPC320 packmol assembly', 'DMPC320 CHARMM-GUI assembly'],\n",
    "    ['small_membrane', 'bigger_membrane', 'bigger_membrane_charmm_gui']\n",
    "):\n",
    "    df = pd.read_csv(f'simulations_benchmarking/data/tutorial/{sim}.csv', index_col=0)\n",
    "    df['name'] = name\n",
    "    dfs.append(df)\n",
    "\n",
    "# concat\n",
    "df = pd.concat(dfs, ignore_index=True, axis=0)\n",
    "\n",
    "# save\n",
    "df.to_csv(f'simulations_benchmarking/data/tutorial/DMPC_data.csv')\n",
    "\n",
    "# create PropertyAnalyser and fill data\n",
    "pa = PropertyAnalyser()\n",
    "pa.data = df\n",
    "\n",
    "print(df.shape)\n",
    "df.head()"
   ]
  },
  {
   "cell_type": "code",
   "execution_count": null,
   "id": "d0685bb7-84cf-46a8-8f81-311e4ae83b1a",
   "metadata": {},
   "outputs": [],
   "source": [
    "# plot and calculate statistics\n",
    "pa.plot(\n",
    "    properties_to_plot=['Area per lipid', 'Bilayer thickness'],\n",
    "    # palette='Set2',\n",
    "    plot_convergence=True,\n",
    "    sns_kwargs={'alpha': 0.9}\n",
    ")\n",
    "# plt.savefig(f'simulations_benchmarking/plots/DMPC_SIRAH.jpg', dpi=300, bbox_inches='tight')\n",
    "plt.show()"
   ]
  },
  {
   "cell_type": "code",
   "execution_count": null,
   "id": "cae1af68-bb85-44c0-a60d-d018f5c90281",
   "metadata": {},
   "outputs": [],
   "source": [
    "cols = ['Area per lipid', 'Bilayer thickness', 'Order parameter']\n",
    "pa.data.groupby(['Step_name'], as_index=False)[cols].agg(['mean','std'])"
   ]
  },
  {
   "cell_type": "markdown",
   "id": "d7fc210b-2593-4832-99b5-8058c6169fbd",
   "metadata": {},
   "source": [
    "Manual check for the APL calculation:"
   ]
  },
  {
   "cell_type": "code",
   "execution_count": null,
   "id": "b15c531b-9bb6-4e31-beea-e83f2d6e4f9a",
   "metadata": {},
   "outputs": [],
   "source": [
    "for sim, n_lip in zip(['small_membrane', 'bigger_membrane'], [64, 320]):\n",
    "    pa1 = PropertyAnalyser(\n",
    "        edr = f'simulations_benchmarking/tutorial/{sim}/production/mdrun.edr'\n",
    "    )\n",
    "    pa1.extract_properties()\n",
    "    apl = ((pa1.data['Box-X'].iloc[5000:].mean() * 10) **2) / n_lip\n",
    "    print(f\"in {sim} simulation APL is {round(apl, 2)}\")"
   ]
  },
  {
   "cell_type": "code",
   "execution_count": null,
   "id": "ae34148a-3f0f-4710-a011-8e004b61529c",
   "metadata": {},
   "outputs": [],
   "source": [
    "rep1/production"
   ]
  },
  {
   "cell_type": "markdown",
   "id": "474e66a6-11fc-4070-a140-5d583550fe6c",
   "metadata": {},
   "source": [
    "Bigger box provides more stable dimensions. \n",
    "\n",
    "Looks like box size matters a lot. Bigger box yields more realistic values.\n",
    "An additional question for more simulations could be: **How does this compare to other force-fields?**\n",
    "\n",
    "Although in the big box the bilayer is more curved, It could affect membrane thickness calculation which could be dependent on binning. **Let's explore that:**"
   ]
  },
  {
   "cell_type": "code",
   "execution_count": null,
   "id": "7cab69b8-f160-4147-b839-00f911459aba",
   "metadata": {},
   "outputs": [],
   "source": [
    "system = mda.Universe(\n",
    "    'simulations_benchmarking/tutorial/bigger_membrane/production/mdrun.tpr',\n",
    "    'simulations_benchmarking/tutorial/bigger_membrane/production/mdrun.xtc'\n",
    ")\n",
    "\n",
    "ag = system.atoms\n",
    "workflow = [\n",
    "    transformations.unwrap(ag),\n",
    "    transformations.center_in_box(system.select_atoms('resname CMM')),\n",
    "    transformations.wrap(ag, compound='residues')\n",
    "    ]\t\n",
    "system.trajectory.add_transformations(*workflow)"
   ]
  },
  {
   "cell_type": "code",
   "execution_count": null,
   "id": "69301d38-a4b3-4dfc-b419-5f25b07748e8",
   "metadata": {},
   "outputs": [],
   "source": [
    "# fixed leaflet assignment binning\n",
    "# increasing membrane thickness binning\n",
    "\n",
    "# asssign leaflets \n",
    "n_bins_leaflets  = int(system.dimensions[0] // 10)\n",
    "\n",
    "leaflets = lpp.leaflets.assign_leaflets.AssignLeaflets(\n",
    "  universe = system,\n",
    "  lipid_sel = 'name BFO',\n",
    "  n_bins = n_bins_leaflets \n",
    ")\n",
    "\n",
    "leaflets.run(\n",
    "    step = 250,\n",
    "    verbose = True\n",
    ")\n",
    "\n",
    "# Membrane thickness\n",
    "mt_dat = []\n",
    "for bin_len in [5, 10, 15, 20, 25]:\n",
    "    \n",
    "    n_bins_thickness = int(system.dimensions[0] // bin_len)\n",
    "\n",
    "    # compute thickness\n",
    "    memb_thickness = lpp.analysis.MembThickness(\n",
    "        universe = system,\n",
    "        leaflets = leaflets.leaflets,\n",
    "        lipid_sel = 'name BFO',\n",
    "        n_bins = n_bins_thickness\n",
    "    )\n",
    "    \n",
    "    memb_thickness.run(\n",
    "        step = 250,\n",
    "        verbose = True\n",
    "    )\n",
    "\n",
    "    mt_dat.append(memb_thickness.memb_thickness)"
   ]
  },
  {
   "cell_type": "code",
   "execution_count": null,
   "id": "0ae3b1de-5d18-4c6b-9408-e1859afc1d0a",
   "metadata": {},
   "outputs": [],
   "source": [
    "# plot\n",
    "time = np.arange(0, 1000 + 0.1, 0.1 * 250)\n",
    "for dat, bin_len in zip(mt_dat, [5, 10, 15, 20, 25]):\n",
    "    plt.plot(time, dat, label=bin_len)\n",
    "plt.legend()\n",
    "plt.show()"
   ]
  },
  {
   "cell_type": "code",
   "execution_count": null,
   "id": "146f8dc8-1616-4e11-80b6-50e5eb71ffde",
   "metadata": {
    "scrolled": true
   },
   "outputs": [],
   "source": [
    "# fixed membrane thickness binning\n",
    "# increasing leaflet assignment binning\n",
    "\n",
    "# Membrane thickness\n",
    "mt_dat = []\n",
    "for bin_len in [3, 5, 10, 15, 20, 25]:\n",
    "\n",
    "    # asssign leaflets \n",
    "    n_bins_leaflets  = int(system.dimensions[0] // bin_len)\n",
    "    \n",
    "    leaflets = lpp.leaflets.assign_leaflets.AssignLeaflets(\n",
    "      universe = system,\n",
    "      lipid_sel = 'name BFO',\n",
    "      n_bins = n_bins_leaflets \n",
    "    )\n",
    "    \n",
    "    leaflets.run(\n",
    "        step = 250,\n",
    "        verbose = True\n",
    "    )\n",
    "\n",
    "    n_bins_thickness = int(system.dimensions[0] // 20)\n",
    "\n",
    "    # compute thickness\n",
    "    memb_thickness = lpp.analysis.MembThickness(\n",
    "        universe = system,\n",
    "        leaflets = leaflets.leaflets,\n",
    "        lipid_sel = 'name BFO',\n",
    "        n_bins = n_bins_thickness\n",
    "    )\n",
    "    \n",
    "    memb_thickness.run(\n",
    "        step = 250,\n",
    "        verbose = True\n",
    "    )\n",
    "\n",
    "    mt_dat.append(memb_thickness.memb_thickness)"
   ]
  },
  {
   "cell_type": "code",
   "execution_count": null,
   "id": "09293a46-55c5-47e5-8ba6-c1649f30f5ec",
   "metadata": {},
   "outputs": [],
   "source": [
    "# plot\n",
    "time = np.arange(0, 1000 + 0.1, 0.1 * 250)\n",
    "for dat, bin_len in zip(mt_dat, [3, 5, 10, 15, 20, 25]):\n",
    "    plt.plot(time, dat, label=bin_len)\n",
    "plt.legend()\n",
    "plt.show()"
   ]
  },
  {
   "cell_type": "markdown",
   "id": "46067018-3016-40c8-a01e-28cf5dabf9c5",
   "metadata": {},
   "source": [
    "Looks like the parameters I'm using for binning are actually sensinble."
   ]
  },
  {
   "cell_type": "markdown",
   "id": "7ae1bfe8-ec51-4ee2-b8c8-dd6fc0a8abfc",
   "metadata": {
    "jp-MarkdownHeadingCollapsed": true
   },
   "source": [
    "## 1. Stage 1 of analysis<a id=\"section_1\"></a>"
   ]
  },
  {
   "cell_type": "markdown",
   "id": "6add0bf2-f660-4e41-b5d4-825122c4c50c",
   "metadata": {},
   "source": [
    "### 1.1 Analysis of some property<a id=\"section_1_1\"></a>"
   ]
  },
  {
   "cell_type": "code",
   "execution_count": null,
   "id": "5cdd2e46-a310-4ede-98bb-6d30be242223",
   "metadata": {},
   "outputs": [],
   "source": [
    "############\n",
    "# YOUR CODE\n",
    "############"
   ]
  },
  {
   "cell_type": "markdown",
   "id": "dd46401e-543f-4f36-88f5-41dbfa054f7e",
   "metadata": {},
   "source": [
    "### 1.2 Analysis of another property<a id=\"section_1_2\"></a>"
   ]
  },
  {
   "cell_type": "code",
   "execution_count": null,
   "id": "a7b3a61d-caf5-43f3-8e91-9e33970902a9",
   "metadata": {},
   "outputs": [],
   "source": [
    "############\n",
    "# YOUR CODE\n",
    "############"
   ]
  },
  {
   "cell_type": "markdown",
   "id": "517d235f-c5b3-4521-8e97-a3a396186e31",
   "metadata": {},
   "source": [
    "### 1.3 Results<a id=\"section_1_3\"></a>"
   ]
  },
  {
   "cell_type": "markdown",
   "id": "e7b54683-486e-4c10-83e1-da83db07bccf",
   "metadata": {},
   "source": [
    "Describe you conclusions and observations in brief or in the manner of the results section of a paper."
   ]
  },
  {
   "cell_type": "markdown",
   "id": "7434177b-022f-4939-a504-3520a1855033",
   "metadata": {
    "jp-MarkdownHeadingCollapsed": true
   },
   "source": [
    "## 2. Stage 2 of analysis<a id=\"section_2\"></a>"
   ]
  },
  {
   "cell_type": "markdown",
   "id": "7071d04a-b03f-44b2-955d-31a4f19408ef",
   "metadata": {},
   "source": [
    "### 2.1 Analysis of some property<a id=\"section_2_1\"></a>"
   ]
  },
  {
   "cell_type": "code",
   "execution_count": null,
   "id": "ec421e4e-aa17-4b83-a000-ab0071d42692",
   "metadata": {},
   "outputs": [],
   "source": [
    "############\n",
    "# YOUR CODE\n",
    "############"
   ]
  },
  {
   "cell_type": "markdown",
   "id": "bc9c1ba1-abe4-43dd-9a6a-375cf27a25f1",
   "metadata": {},
   "source": [
    "### 2.2 Analysis of another property<a id=\"section_2_2\"></a>"
   ]
  },
  {
   "cell_type": "code",
   "execution_count": null,
   "id": "550939b3-d0f8-4dba-ac8b-81f4d2b9b675",
   "metadata": {},
   "outputs": [],
   "source": [
    "############\n",
    "# YOUR CODE\n",
    "############"
   ]
  },
  {
   "cell_type": "markdown",
   "id": "4aa76d30-cd87-4c72-bf73-fccffcb5c2f5",
   "metadata": {},
   "source": [
    "### 1.3 Results<a id=\"section_2_3\"></a>"
   ]
  },
  {
   "cell_type": "markdown",
   "id": "3b022e7c-12c8-4845-bbef-cbe45ebd0c14",
   "metadata": {},
   "source": [
    "..."
   ]
  },
  {
   "cell_type": "raw",
   "id": "abbecb08-bbfe-4ac4-9293-ff8d39d0fde5",
   "metadata": {},
   "source": [
    "# calculated RMSF using GROMACS as follows\n",
    "\n",
    "# created CA index \n",
    "~/Documents/tools/create_index.py -i mdrun.gro -o index_CA.ndx -g 'name CA' -n 'CA'\n",
    "\n",
    "# run RMSF calculation\n",
    "gmx rmsf -s mdrun.tpr -f mdrun.xtc -o rmsf_CA.xvg -xvg none -n index_CA.ndx"
   ]
  },
  {
   "cell_type": "code",
   "execution_count": null,
   "id": "4770dc78-76b8-4531-88cc-7ecd9e70457f",
   "metadata": {},
   "outputs": [],
   "source": [
    "# read RMSF data\n",
    "rmsf_data = []\n",
    "for rep in range(1, 4):\n",
    "    rmsf_data.append(pd.read_csv(\n",
    "        f\"simulations_benchmarking/popc_bilayer_simulations/OmpX/charmm36m/rep{rep}/production/rmsf_CA.xvg\",\n",
    "        sep='\\s+',\n",
    "        header=None,\n",
    "        names=['step','metric']\n",
    "    ))\n",
    "\n",
    "# plot\n",
    "fig = RMSFPlot(\n",
    "    rmsf_data,\n",
    "    labels = [f\"rep{rep}\" for rep in range(1, 4)],\n",
    "    title=f\"OmpX Ca RMSF in POPC membrane\",\n",
    "    x_lab=\"Residue index\",\n",
    "    y_lab=\"RMSF, nm\",\n",
    "    n_chains=1\n",
    ")\n",
    "plt.show()"
   ]
  },
  {
   "cell_type": "code",
   "execution_count": null,
   "id": "99a345f0-f642-4641-bb97-fd16fbab695b",
   "metadata": {},
   "outputs": [],
   "source": [
    "# pring residue id spans with RMSF above 0.2 nm\n",
    "mobile_residues = []\n",
    "for i, rmsf in enumerate(rmsf_data[0].metric.values):\n",
    "    if rmsf >= 0.2:\n",
    "        mobile_residues.append(i + 1)\n",
    "print(mobile_residues)"
   ]
  },
  {
   "cell_type": "markdown",
   "id": "ab6a63df-77f2-48a0-9d72-8c4f2adc7411",
   "metadata": {},
   "source": [
    "**resid 14-18 50-57 92-101**\n",
    "\n",
    "We will calculate RMSD for backbone and Ca atoms including and excluding these spans."
   ]
  },
  {
   "cell_type": "code",
   "execution_count": null,
   "id": "edf69fbb-d4c3-4c51-998a-ac251bfc2751",
   "metadata": {},
   "outputs": [],
   "source": [
    "plot_by_ff_and_rep(pa.data, prop='RMSD_Ca')\n",
    "plt.show()"
   ]
  },
  {
   "cell_type": "code",
   "execution_count": null,
   "id": "e507b457-15d2-4e19-89dc-207a5697d8d3",
   "metadata": {},
   "outputs": [],
   "source": [
    "plot_by_ff_and_rep(pa.data, prop='RMSD_Ca_core')\n",
    "plt.savefig(f'simulations_benchmarking/plots/OmpX_popc_bilayer_RMSD.jpg', dpi=300, bbox_inches='tight')\n",
    "plt.show()"
   ]
  },
  {
   "cell_type": "code",
   "execution_count": null,
   "id": "b7e311cd-8ec0-4795-b3ac-c457dbd61a84",
   "metadata": {},
   "outputs": [],
   "source": [
    "# combine data\n",
    "dfs = []\n",
    "for ff in ['charmm36m', 'SIRAH', 'M2', 'M3']:\n",
    "    for rep in range(1, 4):\n",
    "        df = pd.read_csv(\n",
    "            f'simulations_benchmarking/mixed_bilayer_simulations/OmpX/{ff}/rep{rep}/rmsd_data.csv',\n",
    "            index_col=0\n",
    "        )\n",
    "        df['Step_name'] = ff\n",
    "        df['rep'] = rep\n",
    "        dfs.append(df)\n",
    "\n",
    "# concat\n",
    "df = pd.concat(dfs, ignore_index=True, axis=0)\n",
    "\n",
    "# save\n",
    "df.to_csv(f'simulations_benchmarking/data/OmpX_mixed_rmsd_data.csv')\n",
    "\n",
    "# create PropertyAnalyser and fill data\n",
    "pa = PropertyAnalyser()\n",
    "pa.data = df\n",
    "\n",
    "print(df.shape)\n",
    "df.head()"
   ]
  },
  {
   "cell_type": "code",
   "execution_count": null,
   "id": "2d36abcf-faf6-4718-9c82-ef6501bf7c83",
   "metadata": {},
   "outputs": [],
   "source": [
    "plot_by_ff_and_rep(pa.data, prop='RMSD_Ca')\n",
    "plt.show()"
   ]
  },
  {
   "cell_type": "code",
   "execution_count": null,
   "id": "77a4e6e4-6072-4978-9539-75b9e143be57",
   "metadata": {},
   "outputs": [],
   "source": [
    "plot_by_ff_and_rep(pa.data, prop='RMSD_Ca_core')\n",
    "plt.savefig(f'simulations_benchmarking/plots/OmpX_mixed_bilayer_RMSD.jpg', dpi=300, bbox_inches='tight')\n",
    "plt.show()"
   ]
  }
 ],
 "metadata": {
  "kernelspec": {
   "display_name": "Python 3 (ipykernel)",
   "language": "python",
   "name": "python3"
  },
  "language_info": {
   "codemirror_mode": {
    "name": "ipython",
    "version": 3
   },
   "file_extension": ".py",
   "mimetype": "text/x-python",
   "name": "python",
   "nbconvert_exporter": "python",
   "pygments_lexer": "ipython3",
   "version": "3.11.5"
  }
 },
 "nbformat": 4,
 "nbformat_minor": 5
}
