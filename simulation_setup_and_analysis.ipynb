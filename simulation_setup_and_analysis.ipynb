{
 "cells": [
  {
   "cell_type": "markdown",
   "id": "752d2afb-7b05-4970-a780-365f37887654",
   "metadata": {},
   "source": [
    "### Molecular dynamics project notebook template\n",
    "\n",
    "This is a template to quick-start your new MD project. \n",
    "\n",
    "You can use it to document how your systems were setup, simulated, processed, followed by analysis and plots."
   ]
  },
  {
   "cell_type": "code",
   "execution_count": null,
   "id": "44468775-d341-44c5-bc38-18700acaef2a",
   "metadata": {},
   "outputs": [],
   "source": [
    "# collect all import in the beginning, don't scatter them through the notebook\n",
    "\n",
    "# general libraries\n",
    "import os\n",
    "import numpy as np\n",
    "import pandas as pd\n",
    "import seaborn as sns\n",
    "from tqdm import tqdm\n",
    "import matplotlib.pyplot as plt\n",
    "\n",
    "# Molecular Dynamics analysis libraries\n",
    "import MDAnalysis as mda\n",
    "from MDAnalysis import transformations\n",
    "\n",
    "import lipyphilic as lpp\n",
    "\n",
    "# custom python libraries\n",
    "from yamdtools.property_tracker import PropertyAnalyser, RMSDCalculator, LipidPropertyCalculator\n",
    "from yamdtools.analysis import ZDensity"
   ]
  },
  {
   "cell_type": "code",
   "execution_count": null,
   "id": "c591d34b-798d-4283-895e-499d99e6166e",
   "metadata": {},
   "outputs": [],
   "source": [
    "# this magic lines are handy if you are loading your custom Pyhton libraries and aditing them as you go\n",
    "# if reload is not working you might want to restart kernel\n",
    "%load_ext autoreload\n",
    "%autoreload 2 "
   ]
  },
  {
   "cell_type": "markdown",
   "id": "912c7505-3a8d-4e40-9e92-c67e7eff6b96",
   "metadata": {},
   "source": [
    "### Auxiliary functions\n",
    "\n",
    "If have long plotting or analysis functions that you reuse throughout the notebook, you might want to collect them here:"
   ]
  },
  {
   "cell_type": "code",
   "execution_count": null,
   "id": "11d6d910-f551-4788-abf7-7db68410f5c8",
   "metadata": {},
   "outputs": [],
   "source": [
    "def plot_results(data):\n",
    "    \"\"\"\n",
    "    Write descriptions, this will help you \n",
    "    or anyone else who is using your work\n",
    "    \"\"\"\n",
    "\n",
    "    pass"
   ]
  },
  {
   "cell_type": "markdown",
   "id": "0dfb1f67-eddc-4c58-84e0-9b4a0d1712db",
   "metadata": {},
   "source": [
    "### Contents"
   ]
  },
  {
   "cell_type": "markdown",
   "id": "a4372e90-af15-46ae-bb41-afd05bf10bbf",
   "metadata": {},
   "source": [
    "0. [**System assembly**](#section_sim_assembly)\n",
    "\n",
    "1. [**Stage 1 of analysis**](#section_1)\n",
    "\n",
    "    1.1 [Analysis of some property](#section_1_1)\n",
    "\n",
    "    1.2 [Analysis of another property](#section_1_2)\n",
    "\n",
    "    1.3 [Results](#section_1_3)\n",
    "\n",
    "3. [**Stage 2 of analysis**](#section_2)\n",
    "\n",
    "    2.1 [Analysis of some property](#section_1_1)\n",
    "\n",
    "    2.2 [Analysis of another property](#section_1_2)\n",
    "\n",
    "    2.3 [Results](#section_2_3)"
   ]
  },
  {
   "cell_type": "markdown",
   "id": "267acdd8-9116-4887-bbf6-1390083b5cf0",
   "metadata": {},
   "source": [
    "## System assembly<a id=\"section_sim_assembly\"></a>\n",
    "\n",
    "Here you can describe how your systems were setup and simulated.\n",
    "\n",
    "It can also be helpful to iterate through all of the systems to count components in each system and create a table of simulations for your supplementary materials. See example code below:"
   ]
  },
  {
   "cell_type": "code",
   "execution_count": null,
   "id": "fc5ca7f3-389e-40c7-a8f6-e15695a9ad25",
   "metadata": {
    "scrolled": true
   },
   "outputs": [],
   "source": [
    "# to store data about assembled systems\n",
    "simulated_systems = []\n",
    "\n",
    "# let's assume that 'systems' is a lst of paths to simulation directories\n",
    "system_paths = [...]\n",
    "\n",
    "for system_path in system_paths:\n",
    "\n",
    "    # logging progress\n",
    "    print(f'Analysing {system_path}\\n')\n",
    "\n",
    "    # load your system\n",
    "    system = mda.Universe(f'{system_path}/mdrun.gro')\n",
    "\n",
    "    # now let's count components, for example\n",
    "    # 1. number of lipids in leaflets\n",
    "    \n",
    "    #deduce membrane center\n",
    "    lipids = system.select_atoms('resname POPC')\n",
    "    midplane = (lipids.positions[:, -1].min() + lipids.positions[:, -1].max()) / 2\n",
    "    \n",
    "    # count lipids in leaflets\n",
    "    l = len(system.select_atoms(f'resname POPC and name PO4 and prop z < {round(midplane, 1)}').residues)\n",
    "    u = len(system.select_atoms(f'resname POPC and name PO4 and prop z > {round(midplane, 1)}').residues)\n",
    "    n_lipids = len(system.select_atoms('resname POPC').residues)\n",
    "    \n",
    "    # 2. number of water and ions\n",
    "    water = 'W'\n",
    "    n_w = len(system.select_atoms(f'resname {water}').residues)\n",
    "\n",
    "    na, cl = 'NA', 'CL'\n",
    "    n_Na = len(system.select_atoms(f'name {na}').residues)\n",
    "    n_Cl = len(system.select_atoms(f'name {cl}').residues)\n",
    "\n",
    "    # 3. system dimensions\n",
    "    x, y , z = system.dimensions[:3] / 10\n",
    "\n",
    "    # 4. total number of particles\n",
    "    n_atoms = len(system.atoms)\n",
    "\n",
    "    # add info to list\n",
    "    # SUGGESTION. you might want to unpack system_path into more \n",
    "    # informative tags e.g. protein name, replicate number etc.\n",
    "    simulated_systems.append([\n",
    "        system_path,\n",
    "        n_lipids, l, u,\n",
    "        n_w, n_Na, n_Cl,\n",
    "        n_atoms,\n",
    "        round(x, 1), round(y, 1), round(z, 1) \n",
    "    ])\n",
    "\n",
    "print('\\n\\n')\n",
    "\n",
    "# create dataframe \n",
    "simulated_systems = pd.DataFrame(\n",
    "    data = simulated_systems,\n",
    "    columns = [\n",
    "        'system_name',\n",
    "        'n_lipids', 'n_lower_leaflet', 'n_upper_leaflet',\n",
    "        'Na', 'Cl', 'n_particles',\n",
    "        'x', 'y', 'z'\n",
    "    ]\n",
    ")"
   ]
  },
  {
   "cell_type": "code",
   "execution_count": null,
   "id": "572a2968-5294-4382-ba25-52b97e91600f",
   "metadata": {},
   "outputs": [],
   "source": [
    "pd.set_option('display.max_rows', None)\n",
    "simulated_systems"
   ]
  },
  {
   "cell_type": "code",
   "execution_count": null,
   "id": "2fe9319d-307f-4676-97bc-1c367c3b25b6",
   "metadata": {},
   "outputs": [],
   "source": [
    "# save\n",
    "simulated_systems.to_csv('analysis/table_fo_simulations.csv')"
   ]
  },
  {
   "cell_type": "markdown",
   "id": "7ae1bfe8-ec51-4ee2-b8c8-dd6fc0a8abfc",
   "metadata": {},
   "source": [
    "## 1. Stage 1 of analysis<a id=\"section_1\"></a>"
   ]
  },
  {
   "cell_type": "markdown",
   "id": "6add0bf2-f660-4e41-b5d4-825122c4c50c",
   "metadata": {},
   "source": [
    "### 1.1 Analysis of some property<a id=\"section_1_1\"></a>"
   ]
  },
  {
   "cell_type": "code",
   "execution_count": null,
   "id": "5cdd2e46-a310-4ede-98bb-6d30be242223",
   "metadata": {},
   "outputs": [],
   "source": [
    "############\n",
    "# YOUR CODE\n",
    "############"
   ]
  },
  {
   "cell_type": "markdown",
   "id": "dd46401e-543f-4f36-88f5-41dbfa054f7e",
   "metadata": {},
   "source": [
    "### 1.2 Analysis of another property<a id=\"section_1_2\"></a>"
   ]
  },
  {
   "cell_type": "code",
   "execution_count": null,
   "id": "a7b3a61d-caf5-43f3-8e91-9e33970902a9",
   "metadata": {},
   "outputs": [],
   "source": [
    "############\n",
    "# YOUR CODE\n",
    "############"
   ]
  },
  {
   "cell_type": "markdown",
   "id": "517d235f-c5b3-4521-8e97-a3a396186e31",
   "metadata": {},
   "source": [
    "### 1.3 Results<a id=\"section_1_3\"></a>"
   ]
  },
  {
   "cell_type": "markdown",
   "id": "e7b54683-486e-4c10-83e1-da83db07bccf",
   "metadata": {},
   "source": [
    "Describe you conclusions and observations in brief or in the manner of the results section of a paper."
   ]
  },
  {
   "cell_type": "markdown",
   "id": "7434177b-022f-4939-a504-3520a1855033",
   "metadata": {},
   "source": [
    "## 2. Stage 2 of analysis<a id=\"section_2\"></a>"
   ]
  },
  {
   "cell_type": "markdown",
   "id": "7071d04a-b03f-44b2-955d-31a4f19408ef",
   "metadata": {},
   "source": [
    "### 2.1 Analysis of some property<a id=\"section_2_1\"></a>"
   ]
  },
  {
   "cell_type": "code",
   "execution_count": null,
   "id": "ec421e4e-aa17-4b83-a000-ab0071d42692",
   "metadata": {},
   "outputs": [],
   "source": [
    "############\n",
    "# YOUR CODE\n",
    "############"
   ]
  },
  {
   "cell_type": "markdown",
   "id": "bc9c1ba1-abe4-43dd-9a6a-375cf27a25f1",
   "metadata": {},
   "source": [
    "### 2.2 Analysis of another property<a id=\"section_2_2\"></a>"
   ]
  },
  {
   "cell_type": "code",
   "execution_count": null,
   "id": "550939b3-d0f8-4dba-ac8b-81f4d2b9b675",
   "metadata": {},
   "outputs": [],
   "source": [
    "############\n",
    "# YOUR CODE\n",
    "############"
   ]
  },
  {
   "cell_type": "markdown",
   "id": "4aa76d30-cd87-4c72-bf73-fccffcb5c2f5",
   "metadata": {},
   "source": [
    "### 1.3 Results<a id=\"section_2_3\"></a>"
   ]
  },
  {
   "cell_type": "markdown",
   "id": "3b022e7c-12c8-4845-bbef-cbe45ebd0c14",
   "metadata": {},
   "source": [
    "..."
   ]
  }
 ],
 "metadata": {
  "kernelspec": {
   "display_name": "Python 3 (ipykernel)",
   "language": "python",
   "name": "python3"
  },
  "language_info": {
   "codemirror_mode": {
    "name": "ipython",
    "version": 3
   },
   "file_extension": ".py",
   "mimetype": "text/x-python",
   "name": "python",
   "nbconvert_exporter": "python",
   "pygments_lexer": "ipython3",
   "version": "3.11.5"
  }
 },
 "nbformat": 4,
 "nbformat_minor": 5
}
